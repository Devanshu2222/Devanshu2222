{
 "cells": [
  {
   "cell_type": "code",
   "execution_count": 1,
   "metadata": {},
   "outputs": [
    {
     "name": "stdout",
     "output_type": "stream",
     "text": [
      "Median is: 3\n"
     ]
    }
   ],
   "source": [
    "# question 1.\n",
    "n_num = [1, 2, 3, 4, 5] \n",
    "n = len(n_num) \n",
    "n_num.sort() \n",
    " \n",
    "if n % 2 == 0: \n",
    "    median1 = n_num[n//2] \n",
    "    median2 = n_num[n//2 - 1] \n",
    "    median = (median1 + median2)/2\n",
    "else: \n",
    "    median = n_num[n//2] \n",
    "print(\"Median is: \" + str(median)) "
   ]
  },
  {
   "cell_type": "code",
   "execution_count": 2,
   "metadata": {},
   "outputs": [
    {
     "name": "stdout",
     "output_type": "stream",
     "text": [
      "['a', 'b', 'c']\n"
     ]
    }
   ],
   "source": [
    "# question 2.\n",
    "mylist = [\"a\", \"b\", \"a\", \"c\", \"c\"]\n",
    "mylist = list(dict.fromkeys(mylist))\n",
    "print(mylist)"
   ]
  },
  {
   "cell_type": "code",
   "execution_count": 6,
   "metadata": {},
   "outputs": [
    {
     "name": "stdout",
     "output_type": "stream",
     "text": [
      "hello : 2\n",
      "artificial : 1\n",
      " : 1\n",
      "intelligence : 1\n",
      "machine : 1\n",
      "learning : 1\n"
     ]
    }
   ],
   "source": [
    "# question 3.\n",
    "text = open(\"input.txt\", \"r\") \n",
    "d = dict()\n",
    "for line in text: \n",
    "\tline = line.strip() \n",
    "\tline = line.lower() \n",
    "\twords = line.split(\" \") \n",
    "\tfor word in words: \n",
    "\t\tif word in d: \n",
    "\t\t\td[word] = d[word] + 1\n",
    "\t\telse: \n",
    "\t\t\td[word] = 1\n",
    "# Print the contents of dictionary \n",
    "for key in list(d.keys()): \n",
    "\tprint(key, \":\", d[key]) \n"
   ]
  },
  {
   "cell_type": "code",
   "execution_count": 10,
   "metadata": {},
   "outputs": [
    {
     "name": "stdout",
     "output_type": "stream",
     "text": [
      "ERRORRRR\n"
     ]
    }
   ],
   "source": [
    "# question 4.\n",
    "\n",
    "def divide(x, y):\n",
    "    try: \n",
    "        div = x/y\n",
    "        return div\n",
    "    except ZeroDivisionError:\n",
    "        print(\"ERRORRRR\")\n",
    "\n",
    "newme = int(input())\n",
    "div = 0\n",
    "\n",
    "result = divide(newme,div)"
   ]
  },
  {
   "cell_type": "code",
   "execution_count": null,
   "metadata": {},
   "outputs": [],
   "source": []
  }
 ],
 "metadata": {
  "kernelspec": {
   "display_name": "Python 3",
   "language": "python",
   "name": "python3"
  },
  "language_info": {
   "codemirror_mode": {
    "name": "ipython",
    "version": 3
   },
   "file_extension": ".py",
   "mimetype": "text/x-python",
   "name": "python",
   "nbconvert_exporter": "python",
   "pygments_lexer": "ipython3",
   "version": "3.9.6"
  }
 },
 "nbformat": 4,
 "nbformat_minor": 2
}
